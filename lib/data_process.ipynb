{
 "cells": [
  {
   "cell_type": "markdown",
   "metadata": {},
   "source": [
    "# Import Data"
   ]
  },
  {
   "cell_type": "code",
   "execution_count": 2,
   "metadata": {},
   "outputs": [],
   "source": [
    "from pathlib import Path\n",
    "Path('covid_project.db').touch()"
   ]
  },
  {
   "cell_type": "code",
   "execution_count": 3,
   "metadata": {},
   "outputs": [],
   "source": [
    "import sqlite3\n",
    "conn = sqlite3.connect('covid_project.db')\n",
    "c = conn.cursor()"
   ]
  },
  {
   "cell_type": "code",
   "execution_count": 4,
   "metadata": {},
   "outputs": [],
   "source": [
    "import pandas as pd\n",
    "data1 = pd.read_csv(\"data/covid_case.csv\")\n",
    "data1.to_sql('case', conn, if_exists = 'append', index = False)"
   ]
  },
  {
   "cell_type": "code",
   "execution_count": 5,
   "metadata": {},
   "outputs": [],
   "source": [
    "data2 = pd.read_csv(\"data/covid_demographic.csv\")\n",
    "data2.to_sql('demographic', conn, if_exists = 'append', index = False)"
   ]
  },
  {
   "cell_type": "code",
   "execution_count": 6,
   "metadata": {},
   "outputs": [],
   "source": [
    "data3 = pd.read_csv(\"data/covid_policy.csv\")\n",
    "data3.to_sql('policy', conn, if_exists = 'append', index = False)"
   ]
  },
  {
   "cell_type": "code",
   "execution_count": 7,
   "metadata": {},
   "outputs": [],
   "source": [
    "data4 = pd.read_csv(\"data/covid_searchtrend.csv\")\n",
    "data4.to_sql('searchtrend', conn, if_exists = 'append', index = False)"
   ]
  },
  {
   "cell_type": "markdown",
   "metadata": {},
   "source": [
    "# Load into SQL"
   ]
  },
  {
   "cell_type": "code",
   "execution_count": 8,
   "metadata": {},
   "outputs": [],
   "source": [
    "%load_ext sql"
   ]
  },
  {
   "cell_type": "code",
   "execution_count": 12,
   "metadata": {},
   "outputs": [],
   "source": [
    "%sql sqlite:///covid_project.db"
   ]
  },
  {
   "cell_type": "code",
   "execution_count": 13,
   "metadata": {},
   "outputs": [
    {
     "name": "stdout",
     "output_type": "stream",
     "text": [
      " * sqlite:///covid_project.db\n",
      "Done.\n"
     ]
    },
    {
     "data": {
      "text/html": [
       "<table>\n",
       "    <tr>\n",
       "        <th>type</th>\n",
       "        <th>name</th>\n",
       "        <th>tbl_name</th>\n",
       "        <th>rootpage</th>\n",
       "        <th>sql</th>\n",
       "    </tr>\n",
       "    <tr>\n",
       "        <td>table</td>\n",
       "        <td>case</td>\n",
       "        <td>case</td>\n",
       "        <td>2</td>\n",
       "        <td>CREATE TABLE &quot;case&quot; (<br>&quot;date&quot; TEXT,<br>  &quot;country_code&quot; TEXT,<br>  &quot;subregion1_code&quot; TEXT,<br>  &quot;new_confirmed&quot; REAL,<br>  &quot;new_deceased&quot; REAL,<br>  &quot;new_tested&quot; REAL,<br>  &quot;cumulative_confirmed&quot; REAL,<br>  &quot;cumulative_tested&quot; REAL,<br>  &quot;cumulative_recovered&quot; REAL,<br>  &quot;cumulative_hospitalized_patients&quot; REAL<br>)</td>\n",
       "    </tr>\n",
       "    <tr>\n",
       "        <td>table</td>\n",
       "        <td>demographic</td>\n",
       "        <td>demographic</td>\n",
       "        <td>16840</td>\n",
       "        <td>CREATE TABLE &quot;demographic&quot; (<br>&quot;date&quot; TEXT,<br>  &quot;country_code&quot; TEXT,<br>  &quot;subregion1_code&quot; TEXT,<br>  &quot;area_sq_km&quot; INTEGER,<br>  &quot;area_urban_sq_km&quot; REAL,<br>  &quot;average_temperature_celsius&quot; REAL,<br>  &quot;population&quot; INTEGER,<br>  &quot;population_age_60_69&quot; REAL,<br>  &quot;population_age_70_79&quot; REAL,<br>  &quot;population_age_80_and_older&quot; REAL,<br>  &quot;life_expectancy&quot; REAL,<br>  &quot;nurses_per_1000&quot; REAL,<br>  &quot;physicians_per_1000&quot; REAL,<br>  &quot;health_expenditure_usd&quot; REAL,<br>  &quot;population_clustered&quot; REAL,<br>  &quot;human_capital_index&quot; REAL,<br>  &quot;comorbidity_mortality_rate&quot; REAL,<br>  &quot;mobility_retail_and_recreation&quot; REAL,<br>  &quot;mobility_grocery_and_pharmacy&quot; REAL,<br>  &quot;mobility_parks&quot; REAL,<br>  &quot;mobility_transit_stations&quot; REAL,<br>  &quot;mobility_workplaces&quot; REAL,<br>  &quot;mobility_residential&quot; REAL<br>)</td>\n",
       "    </tr>\n",
       "    <tr>\n",
       "        <td>table</td>\n",
       "        <td>policy</td>\n",
       "        <td>policy</td>\n",
       "        <td>53201</td>\n",
       "        <td>CREATE TABLE &quot;policy&quot; (<br>&quot;date&quot; TEXT,<br>  &quot;country_code&quot; TEXT,<br>  &quot;subregion1_code&quot; TEXT,<br>  &quot;school_closing&quot; REAL,<br>  &quot;workplace_closing&quot; REAL,<br>  &quot;restrictions_on_gatherings&quot; REAL,<br>  &quot;public_transport_closing&quot; REAL,<br>  &quot;stay_at_home_requirements&quot; REAL,<br>  &quot;public_information_campaigns&quot; REAL,<br>  &quot;testing_policy&quot; REAL,<br>  &quot;emergency_investment_in_healthcare&quot; REAL,<br>  &quot;investment_in_vaccines&quot; REAL,<br>  &quot;facial_coverings&quot; REAL,<br>  &quot;vaccination_policy&quot; REAL,<br>  &quot;stringency_index&quot; REAL<br>)</td>\n",
       "    </tr>\n",
       "    <tr>\n",
       "        <td>table</td>\n",
       "        <td>searchtrend</td>\n",
       "        <td>searchtrend</td>\n",
       "        <td>71369</td>\n",
       "        <td>CREATE TABLE &quot;searchtrend&quot; (<br>&quot;date&quot; TEXT,<br>  &quot;country_code&quot; TEXT,<br>  &quot;subregion1_code&quot; TEXT,<br>  &quot;search_trends_acute_bronchitis&quot; REAL,<br>  &quot;search_trends_ageusia&quot; REAL,<br>  &quot;search_trends_anosmia&quot; REAL,<br>  &quot;search_trends_anxiety&quot; REAL,<br>  &quot;search_trends_aphasia&quot; REAL,<br>  &quot;search_trends_aphonia&quot; REAL,<br>  &quot;search_trends_apnea&quot; REAL,<br>  &quot;search_trends_asphyxia&quot; REAL,<br>  &quot;search_trends_asthma&quot; REAL,<br>  &quot;search_trends_chest_pain&quot; REAL,<br>  &quot;search_trends_chills&quot; REAL,<br>  &quot;search_trends_clouding_of_consciousness&quot; REAL,<br>  &quot;search_trends_cough&quot; REAL,<br>  &quot;search_trends_fatigue&quot; REAL,<br>  &quot;search_trends_diarrhea&quot; REAL,<br>  &quot;search_trends_headache&quot; REAL,<br>  &quot;search_trends_heart_arrhythmia&quot; REAL,<br>  &quot;search_trends_fever&quot; REAL,<br>  &quot;search_trends_common_cold&quot; REAL,<br>  &quot;search_trends_pain&quot; REAL,<br>  &quot;search_trends_nausea&quot; REAL,<br>  &quot;search_trends_sore_throat&quot; REAL,<br>  &quot;search_trends_swelling&quot; REAL,<br>  &quot;search_trends_vomiting&quot; REAL<br>)</td>\n",
       "    </tr>\n",
       "</table>"
      ],
      "text/plain": [
       "[('table', 'case', 'case', 2, 'CREATE TABLE \"case\" (\\n\"date\" TEXT,\\n  \"country_code\" TEXT,\\n  \"subregion1_code\" TEXT,\\n  \"new_confirmed\" REAL,\\n  \"new_deceased\" REAL,\\n  \"new_tested\" REAL,\\n  \"cumulative_confirmed\" REAL,\\n  \"cumulative_tested\" REAL,\\n  \"cumulative_recovered\" REAL,\\n  \"cumulative_hospitalized_patients\" REAL\\n)'),\n",
       " ('table', 'demographic', 'demographic', 16840, 'CREATE TABLE \"demographic\" (\\n\"date\" TEXT,\\n  \"country_code\" TEXT,\\n  \"subregion1_code\" TEXT,\\n  \"area_sq_km\" INTEGER,\\n  \"area_urban_sq_km\" REAL,\\n  ... (446 characters truncated) ... y_and_pharmacy\" REAL,\\n  \"mobility_parks\" REAL,\\n  \"mobility_transit_stations\" REAL,\\n  \"mobility_workplaces\" REAL,\\n  \"mobility_residential\" REAL\\n)'),\n",
       " ('table', 'policy', 'policy', 53201, 'CREATE TABLE \"policy\" (\\n\"date\" TEXT,\\n  \"country_code\" TEXT,\\n  \"subregion1_code\" TEXT,\\n  \"school_closing\" REAL,\\n  \"workplace_closing\" REAL,\\n  \"r ... (190 characters truncated) ... stment_in_healthcare\" REAL,\\n  \"investment_in_vaccines\" REAL,\\n  \"facial_coverings\" REAL,\\n  \"vaccination_policy\" REAL,\\n  \"stringency_index\" REAL\\n)'),\n",
       " ('table', 'searchtrend', 'searchtrend', 71369, 'CREATE TABLE \"searchtrend\" (\\n\"date\" TEXT,\\n  \"country_code\" TEXT,\\n  \"subregion1_code\" TEXT,\\n  \"search_trends_acute_bronchitis\" REAL,\\n  \"search_tr ... (629 characters truncated) ... ain\" REAL,\\n  \"search_trends_nausea\" REAL,\\n  \"search_trends_sore_throat\" REAL,\\n  \"search_trends_swelling\" REAL,\\n  \"search_trends_vomiting\" REAL\\n)')]"
      ]
     },
     "execution_count": 13,
     "metadata": {},
     "output_type": "execute_result"
    }
   ],
   "source": [
    "%%sql\n",
    "\n",
    "SELECT * FROM sqlite_master WHERE type = 'table';"
   ]
  },
  {
   "cell_type": "code",
   "execution_count": null,
   "metadata": {},
   "outputs": [],
   "source": []
  },
  {
   "cell_type": "code",
   "execution_count": null,
   "metadata": {},
   "outputs": [],
   "source": []
  },
  {
   "cell_type": "code",
   "execution_count": null,
   "metadata": {},
   "outputs": [],
   "source": []
  },
  {
   "cell_type": "code",
   "execution_count": null,
   "metadata": {},
   "outputs": [],
   "source": []
  }
 ],
 "metadata": {
  "kernelspec": {
   "display_name": "Python 3",
   "language": "python",
   "name": "python3"
  },
  "language_info": {
   "codemirror_mode": {
    "name": "ipython",
    "version": 3
   },
   "file_extension": ".py",
   "mimetype": "text/x-python",
   "name": "python",
   "nbconvert_exporter": "python",
   "pygments_lexer": "ipython3",
   "version": "3.9.1"
  }
 },
 "nbformat": 4,
 "nbformat_minor": 4
}
