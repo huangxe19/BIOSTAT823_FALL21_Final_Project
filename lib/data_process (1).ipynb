{
 "cells": [
  {
   "cell_type": "markdown",
   "metadata": {},
   "source": [
    "# Import Data"
   ]
  },
  {
   "cell_type": "code",
   "execution_count": 2,
   "metadata": {},
   "outputs": [],
   "source": [
    "import pandas as pd"
   ]
  },
  {
   "cell_type": "code",
   "execution_count": 5,
   "metadata": {},
   "outputs": [],
   "source": [
    "import warnings\n",
    "warnings.filterwarnings('ignore')"
   ]
  },
  {
   "cell_type": "markdown",
   "metadata": {},
   "source": [
    "When we created database of data downloaded from google cloud platform, using code like\n",
    "\n",
    "SELECT name1_new\n",
    "\n",
    "FROM `bigquery-public-data.covid19_open_data.covid19_open_data`\n",
    "\n",
    "WHERE country_code = 'US'\n",
    "\n",
    "AND date BETWEEN '2020-03-01' AND '2021-11-10'\n",
    "\n",
    "\n",
    "We read in database in python, and then use sql code as below to clean the data and store it to new variable searchtrend."
   ]
  },
  {
   "cell_type": "markdown",
   "metadata": {},
   "source": [
    "# Process Geographical data"
   ]
  },
  {
   "cell_type": "code",
   "execution_count": 29,
   "metadata": {},
   "outputs": [],
   "source": [
    "data2 = pd.read_csv(\"data/covid_demographic.csv\")"
   ]
  },
  {
   "cell_type": "code",
   "execution_count": 30,
   "metadata": {},
   "outputs": [],
   "source": [
    "data2_sum_df = data2.groupby(['subregion1_code','date'])['area_sq_km', 'area_urban_sq_km', 'population',\n",
    "                                                         'population_age_60_69', 'population_age_70_79',\n",
    "                                                         'population_age_80_and_older'].sum().reset_index()"
   ]
  },
  {
   "cell_type": "code",
   "execution_count": 31,
   "metadata": {},
   "outputs": [],
   "source": [
    "data2_sum_df['population_den'] = data2_sum_df['population']/data2_sum_df['area_sq_km']"
   ]
  },
  {
   "cell_type": "code",
   "execution_count": 32,
   "metadata": {},
   "outputs": [],
   "source": [
    "data2_sum_df['elder_perc'] = (data2_sum_df['population_age_60_69'] + data2_sum_df['population_age_70_79'] + \n",
    "                              data2_sum_df['population_age_80_and_older']) /data2_sum_df['population']"
   ]
  },
  {
   "cell_type": "code",
   "execution_count": 33,
   "metadata": {},
   "outputs": [],
   "source": [
    "data2_avg_df = data2.groupby(['subregion1_code','date'])['average_temperature_celsius',\n",
    "                                                         'mobility_retail_and_recreation',\n",
    "                                          'mobility_grocery_and_pharmacy', 'mobility_parks',\n",
    "                                          'mobility_transit_stations', 'mobility_workplaces',\n",
    "                                          'mobility_residential'\n",
    "                                         ].mean().reset_index()"
   ]
  },
  {
   "cell_type": "code",
   "execution_count": 34,
   "metadata": {},
   "outputs": [],
   "source": [
    "geo_df = pd.merge(data2_sum_df, data2_avg_df, on = ['subregion1_code', 'date'])"
   ]
  },
  {
   "cell_type": "code",
   "execution_count": 35,
   "metadata": {},
   "outputs": [],
   "source": [
    "geo_df = geo_df.drop(['area_sq_km', 'area_urban_sq_km','population', \n",
    "                      'population_age_60_69', 'population_age_70_79', 'population_age_80_and_older'], 1)"
   ]
  },
  {
   "cell_type": "code",
   "execution_count": 36,
   "metadata": {},
   "outputs": [],
   "source": [
    "geo_df.to_csv('data/geo.csv', index = False)"
   ]
  },
  {
   "cell_type": "markdown",
   "metadata": {},
   "source": [
    "# Process policy data"
   ]
  },
  {
   "cell_type": "code",
   "execution_count": 14,
   "metadata": {},
   "outputs": [],
   "source": [
    "df = pd.read_csv(\"data/covid_policy.csv\")\n",
    "\n",
    "df = df[df.subregion1_code != None]\n",
    "\n",
    "policy = df.drop(columns = ['emergency_investment_in_healthcare', 'investment_in_vaccines'])"
   ]
  },
  {
   "cell_type": "code",
   "execution_count": 15,
   "metadata": {},
   "outputs": [],
   "source": [
    "new_policy = policy.groupby(by = ['date', 'country_code', 'subregion1_code']).mean().reset_index()\n",
    "\n",
    "new_policy.to_csv(\"data/policy.csv\", index = False)"
   ]
  },
  {
   "cell_type": "code",
   "execution_count": null,
   "metadata": {},
   "outputs": [],
   "source": [
    "\", \".join([f\"AVG({ele}) AS {ele}\" for ele in df.columns[3:]])"
   ]
  },
  {
   "cell_type": "markdown",
   "metadata": {},
   "source": [
    "# Process search trend data"
   ]
  },
  {
   "cell_type": "code",
   "execution_count": 3,
   "metadata": {},
   "outputs": [],
   "source": [
    "data4 = pd.read_csv(\"data/covid_searchtrend.csv\")\n",
    "# originally we have 57 subregions including Nan subregion, it has 602 rows, we delete observations with Nan subregion\n",
    "data4 = data4.dropna(subset=[\"subregion1_code\"])"
   ]
  },
  {
   "cell_type": "code",
   "execution_count": 17,
   "metadata": {},
   "outputs": [],
   "source": [
    "# group the data by subregion and date first, get mean in same subregion and date\n",
    "st = data4.groupby(['subregion1_code','date']).mean().reset_index()"
   ]
  },
  {
   "cell_type": "code",
   "execution_count": 18,
   "metadata": {},
   "outputs": [],
   "source": [
    "\n",
    "# after imputation drop the columns still have more than 100,000 missing values\n",
    "\n",
    "st2 = st.drop([\"search_trends_acute_bronchitis\",\n",
    "                    \"search_trends_ageusia\", \n",
    "                    \"search_trends_anosmia\", \n",
    "                    \"search_trends_aphasia\",\n",
    "                    \"search_trends_aphonia\",\n",
    "                    \"search_trends_asphyxia\",\n",
    "                    \"search_trends_chills\",\n",
    "                    \"search_trends_clouding_of_consciousness\"], axis =1)"
   ]
  },
  {
   "cell_type": "code",
   "execution_count": 19,
   "metadata": {},
   "outputs": [],
   "source": [
    "st2.to_csv(\"data/search_trend.csv\", index = False)"
   ]
  },
  {
   "cell_type": "markdown",
   "metadata": {},
   "source": [
    "# Process case data"
   ]
  },
  {
   "cell_type": "code",
   "execution_count": 145,
   "metadata": {
    "scrolled": true
   },
   "outputs": [
    {
     "name": "stderr",
     "output_type": "stream",
     "text": [
      "<ipython-input-145-9d9393c30086>:2: FutureWarning: Indexing with multiple keys (implicitly converted to a tuple of keys) will be deprecated, use a list instead.\n",
      "  data_case = case.groupby(['subregion1_code','date'])['new_confirmed', 'new_tested',\n",
      "<ipython-input-145-9d9393c30086>:5: SettingWithCopyWarning: \n",
      "A value is trying to be set on a copy of a slice from a DataFrame\n",
      "\n",
      "See the caveats in the documentation: https://pandas.pydata.org/pandas-docs/stable/user_guide/indexing.html#returning-a-view-versus-a-copy\n",
      "  data_case['cumulative_confirmed'][data_case['cumulative_confirmed'] < 0] = 0\n"
     ]
    }
   ],
   "source": [
    "case = pd.read_csv('data/covid_case.csv')\n",
    "data_case = case.groupby(['subregion1_code','date'])['new_confirmed', 'new_tested',\n",
    "                                                    'cumulative_confirmed', 'cumulative_tested',\n",
    "                                                    'cumulative_recovered'].sum().reset_index()\n",
    "data_case['cumulative_confirmed'][data_case['cumulative_confirmed'] < 0] = 0\n",
    "sat_list = pd.date_range(start='2020-02-29', end='2021-11-06', freq='7D')\n",
    "sat_list = sat_list.strftime('%Y-%m-%d').tolist()\n",
    "sun_list = pd.date_range(start='2020-03-01', end='2021-11-07', freq='7D')\n",
    "sun_list = sun_list.strftime('%Y-%m-%d').tolist()\n",
    "weekend = sat_list + sun_list\n",
    "data_case = data_case.sort_values(by=['subregion1_code', 'date'])\n",
    "data_case = data_case[data_case.date != '2020-03-01']\n",
    "\n",
    "data_case['weekly_new_avg'] = data_case.groupby(data_case.index // 5)['new_confirmed'].transform('mean')\n",
    "\n",
    "data_case['new_confirmed'][data_case.date.isin(weekend) & (data_case.new_confirmed == 0)] = data_case['weekly_new_avg']\n",
    "data_case = data_case.drop(['new_tested', 'weekly_new_avg','cumulative_tested'], 1)\n",
    "data_case.to_csv('data/case.csv', index = False)"
   ]
  },
  {
   "cell_type": "code",
   "execution_count": 94,
   "metadata": {
    "scrolled": true
   },
   "outputs": [
    {
     "data": {
      "text/html": [
       "<div>\n",
       "<style scoped>\n",
       "    .dataframe tbody tr th:only-of-type {\n",
       "        vertical-align: middle;\n",
       "    }\n",
       "\n",
       "    .dataframe tbody tr th {\n",
       "        vertical-align: top;\n",
       "    }\n",
       "\n",
       "    .dataframe thead th {\n",
       "        text-align: right;\n",
       "    }\n",
       "</style>\n",
       "<table border=\"1\" class=\"dataframe\">\n",
       "  <thead>\n",
       "    <tr style=\"text-align: right;\">\n",
       "      <th></th>\n",
       "      <th>subregion1_code</th>\n",
       "      <th>date</th>\n",
       "      <th>new_confirmed</th>\n",
       "      <th>cumulative_confirmed</th>\n",
       "      <th>cumulative_recovered</th>\n",
       "    </tr>\n",
       "  </thead>\n",
       "  <tbody>\n",
       "    <tr>\n",
       "      <th>1</th>\n",
       "      <td>AK</td>\n",
       "      <td>2020-03-02</td>\n",
       "      <td>0.0</td>\n",
       "      <td>0.0</td>\n",
       "      <td>0.0</td>\n",
       "    </tr>\n",
       "    <tr>\n",
       "      <th>2</th>\n",
       "      <td>AK</td>\n",
       "      <td>2020-03-03</td>\n",
       "      <td>0.0</td>\n",
       "      <td>0.0</td>\n",
       "      <td>0.0</td>\n",
       "    </tr>\n",
       "    <tr>\n",
       "      <th>3</th>\n",
       "      <td>AK</td>\n",
       "      <td>2020-03-04</td>\n",
       "      <td>0.0</td>\n",
       "      <td>0.0</td>\n",
       "      <td>0.0</td>\n",
       "    </tr>\n",
       "    <tr>\n",
       "      <th>4</th>\n",
       "      <td>AK</td>\n",
       "      <td>2020-03-05</td>\n",
       "      <td>0.0</td>\n",
       "      <td>0.0</td>\n",
       "      <td>0.0</td>\n",
       "    </tr>\n",
       "    <tr>\n",
       "      <th>5</th>\n",
       "      <td>AK</td>\n",
       "      <td>2020-03-06</td>\n",
       "      <td>0.0</td>\n",
       "      <td>0.0</td>\n",
       "      <td>0.0</td>\n",
       "    </tr>\n",
       "    <tr>\n",
       "      <th>...</th>\n",
       "      <td>...</td>\n",
       "      <td>...</td>\n",
       "      <td>...</td>\n",
       "      <td>...</td>\n",
       "      <td>...</td>\n",
       "    </tr>\n",
       "    <tr>\n",
       "      <th>34715</th>\n",
       "      <td>WY</td>\n",
       "      <td>2021-11-06</td>\n",
       "      <td>552.0</td>\n",
       "      <td>210636.0</td>\n",
       "      <td>0.0</td>\n",
       "    </tr>\n",
       "    <tr>\n",
       "      <th>34716</th>\n",
       "      <td>WY</td>\n",
       "      <td>2021-11-07</td>\n",
       "      <td>552.0</td>\n",
       "      <td>210636.0</td>\n",
       "      <td>0.0</td>\n",
       "    </tr>\n",
       "    <tr>\n",
       "      <th>34717</th>\n",
       "      <td>WY</td>\n",
       "      <td>2021-11-08</td>\n",
       "      <td>1344.0</td>\n",
       "      <td>211980.0</td>\n",
       "      <td>0.0</td>\n",
       "    </tr>\n",
       "    <tr>\n",
       "      <th>34718</th>\n",
       "      <td>WY</td>\n",
       "      <td>2021-11-09</td>\n",
       "      <td>594.0</td>\n",
       "      <td>212574.0</td>\n",
       "      <td>0.0</td>\n",
       "    </tr>\n",
       "    <tr>\n",
       "      <th>34719</th>\n",
       "      <td>WY</td>\n",
       "      <td>2021-11-10</td>\n",
       "      <td>822.0</td>\n",
       "      <td>213396.0</td>\n",
       "      <td>0.0</td>\n",
       "    </tr>\n",
       "  </tbody>\n",
       "</table>\n",
       "<p>34664 rows × 5 columns</p>\n",
       "</div>"
      ],
      "text/plain": [
       "      subregion1_code        date  new_confirmed  cumulative_confirmed  \\\n",
       "1                  AK  2020-03-02            0.0                   0.0   \n",
       "2                  AK  2020-03-03            0.0                   0.0   \n",
       "3                  AK  2020-03-04            0.0                   0.0   \n",
       "4                  AK  2020-03-05            0.0                   0.0   \n",
       "5                  AK  2020-03-06            0.0                   0.0   \n",
       "...               ...         ...            ...                   ...   \n",
       "34715              WY  2021-11-06          552.0              210636.0   \n",
       "34716              WY  2021-11-07          552.0              210636.0   \n",
       "34717              WY  2021-11-08         1344.0              211980.0   \n",
       "34718              WY  2021-11-09          594.0              212574.0   \n",
       "34719              WY  2021-11-10          822.0              213396.0   \n",
       "\n",
       "       cumulative_recovered  \n",
       "1                       0.0  \n",
       "2                       0.0  \n",
       "3                       0.0  \n",
       "4                       0.0  \n",
       "5                       0.0  \n",
       "...                     ...  \n",
       "34715                   0.0  \n",
       "34716                   0.0  \n",
       "34717                   0.0  \n",
       "34718                   0.0  \n",
       "34719                   0.0  \n",
       "\n",
       "[34664 rows x 5 columns]"
      ]
     },
     "execution_count": 94,
     "metadata": {},
     "output_type": "execute_result"
    }
   ],
   "source": [
    "data_case"
   ]
  },
  {
   "cell_type": "markdown",
   "metadata": {},
   "source": [
    "# Process vaccination and test data"
   ]
  },
  {
   "cell_type": "code",
   "execution_count": 146,
   "metadata": {},
   "outputs": [],
   "source": [
    "data5 = pd.read_csv(\"data/states_timeseries.csv\")\n",
    "data5 = data5[['date','state', 'actuals.positiveTests', 'actuals.negativeTests', 'actuals.vaccinationsCompleted']]\n",
    "data5['cumulative_tested'] = data5['actuals.positiveTests'] + data5['actuals.negativeTests']\n",
    "data5 = data5.drop(['actuals.negativeTests','actuals.positiveTests'], 1)\n",
    "data5 = data5.rename(columns={'state': 'subregion1_code', 'actuals.vaccinationsCompleted': 'vaccination_count'})\n",
    "data5.to_csv('test_vaccination.csv', index = False)"
   ]
  },
  {
   "cell_type": "markdown",
   "metadata": {},
   "source": [
    "# Join 4 df"
   ]
  },
  {
   "cell_type": "code",
   "execution_count": 154,
   "metadata": {
    "scrolled": true
   },
   "outputs": [],
   "source": [
    "geo = pd.read_csv('data/geo.csv')\n",
    "policy = pd.read_csv('data/policy.csv')\n",
    "search_trend = pd.read_csv('data/search_trend.csv')\n",
    "case = pd.read_csv('data/case.csv')\n",
    "test_vaccination = pd.read_csv('test_vaccination.csv')\n",
    "\n",
    "df = pd.merge(geo, policy, on = ['subregion1_code', 'date'])\n",
    "df = pd.merge(df, search_trend, on = ['subregion1_code', 'date'])\n",
    "df = pd.merge(df, case, on = ['subregion1_code', 'date'])\n",
    "#df = pd.merge(df, test_vaccination, on = ['subregion1_code', 'date'])\n",
    "\n",
    "df = df.drop(['country_code','cumulative_recovered'], 1)\n",
    "\n",
    "#df = df.dropna()\n",
    "#df.to_csv('data/full_data.csv')"
   ]
  },
  {
   "cell_type": "code",
   "execution_count": 148,
   "metadata": {},
   "outputs": [
    {
     "data": {
      "text/plain": [
       "614"
      ]
     },
     "execution_count": 148,
     "metadata": {},
     "output_type": "execute_result"
    }
   ],
   "source": [
    "len(df.date.unique())"
   ]
  },
  {
   "cell_type": "code",
   "execution_count": 149,
   "metadata": {},
   "outputs": [],
   "source": [
    "df['date'] =pd.to_datetime(df['date'])\n",
    "df = df.sort_values(by='date')"
   ]
  },
  {
   "cell_type": "code",
   "execution_count": 150,
   "metadata": {
    "scrolled": true
   },
   "outputs": [
    {
     "name": "stderr",
     "output_type": "stream",
     "text": [
      "<ipython-input-150-1e258e62481a>:7: SettingWithCopyWarning: \n",
      "A value is trying to be set on a copy of a slice from a DataFrame.\n",
      "Try using .loc[row_indexer,col_indexer] = value instead\n",
      "\n",
      "See the caveats in the documentation: https://pandas.pydata.org/pandas-docs/stable/user_guide/indexing.html#returning-a-view-versus-a-copy\n",
      "  train_df['date'] = train_df['date'].dt.strftime('%Y-%m-%d')\n",
      "<ipython-input-150-1e258e62481a>:8: SettingWithCopyWarning: \n",
      "A value is trying to be set on a copy of a slice from a DataFrame.\n",
      "Try using .loc[row_indexer,col_indexer] = value instead\n",
      "\n",
      "See the caveats in the documentation: https://pandas.pydata.org/pandas-docs/stable/user_guide/indexing.html#returning-a-view-versus-a-copy\n",
      "  test_df['date'] = test_df['date'].dt.strftime('%Y-%m-%d')\n"
     ]
    }
   ],
   "source": [
    "dates = df['date']\n",
    "dates = dates.drop_duplicates()\n",
    "test_date = dates[-21:]\n",
    "test_df = df[df.date.isin(test_date)]\n",
    "train_df = df[~df.date.isin(test_date)]\n",
    "\n",
    "train_df['date'] = train_df['date'].dt.strftime('%Y-%m-%d')\n",
    "test_df['date'] = test_df['date'].dt.strftime('%Y-%m-%d')"
   ]
  },
  {
   "cell_type": "code",
   "execution_count": 142,
   "metadata": {},
   "outputs": [],
   "source": [
    "train_df.to_csv('data/train_df.csv', index = False)\n",
    "test_df.to_csv('data/test_df.csv', index = False)"
   ]
  },
  {
   "cell_type": "code",
   "execution_count": 48,
   "metadata": {
    "scrolled": false
   },
   "outputs": [
    {
     "data": {
      "text/plain": [
       "subregion1_code                   0\n",
       "date                              0\n",
       "population_den                    0\n",
       "elder_perc                        0\n",
       "average_temperature_celsius       0\n",
       "mobility_retail_and_recreation    0\n",
       "mobility_grocery_and_pharmacy     0\n",
       "mobility_parks                    0\n",
       "mobility_transit_stations         0\n",
       "mobility_workplaces               0\n",
       "mobility_residential              0\n",
       "school_closing                    0\n",
       "workplace_closing                 0\n",
       "restrictions_on_gatherings        0\n",
       "public_transport_closing          0\n",
       "stay_at_home_requirements         0\n",
       "public_information_campaigns      0\n",
       "testing_policy                    0\n",
       "facial_coverings                  0\n",
       "vaccination_policy                0\n",
       "stringency_index                  0\n",
       "search_trends_anxiety             0\n",
       "search_trends_apnea               0\n",
       "search_trends_asthma              0\n",
       "search_trends_chest_pain          0\n",
       "search_trends_cough               0\n",
       "search_trends_fatigue             0\n",
       "search_trends_diarrhea            0\n",
       "search_trends_headache            0\n",
       "search_trends_heart_arrhythmia    0\n",
       "search_trends_fever               0\n",
       "search_trends_common_cold         0\n",
       "search_trends_pain                0\n",
       "search_trends_nausea              0\n",
       "search_trends_sore_throat         0\n",
       "search_trends_swelling            0\n",
       "search_trends_vomiting            0\n",
       "new_confirmed                     0\n",
       "cumulative_confirmed              0\n",
       "cumulative_tested                 0\n",
       "cumulative_recovered              0\n",
       "dtype: int64"
      ]
     },
     "execution_count": 48,
     "metadata": {},
     "output_type": "execute_result"
    }
   ],
   "source": [
    "df.isna().sum()"
   ]
  },
  {
   "cell_type": "code",
   "execution_count": 64,
   "metadata": {},
   "outputs": [],
   "source": [
    "train_df.to_csv('train_df.csv', index = False)\n",
    "test_df.to_csv('test_df.csv', index = False)"
   ]
  },
  {
   "cell_type": "markdown",
   "metadata": {},
   "source": [
    "# Load into SQL"
   ]
  },
  {
   "cell_type": "code",
   "execution_count": null,
   "metadata": {},
   "outputs": [],
   "source": [
    "from pathlib import Path\n",
    "Path('covid_project.db').touch()"
   ]
  },
  {
   "cell_type": "code",
   "execution_count": null,
   "metadata": {},
   "outputs": [],
   "source": [
    "import sqlite3\n",
    "conn = sqlite3.connect('covid_project.db')\n",
    "c = conn.cursor()"
   ]
  },
  {
   "cell_type": "code",
   "execution_count": null,
   "metadata": {},
   "outputs": [],
   "source": [
    "data1 = pd.read_csv(\"data/covid_case.csv\")\n",
    "data1.to_sql('case', conn, if_exists = 'append', index = False)\n",
    "\n",
    "data2 = pd.read_csv(\"data/covid_demographic.csv\")\n",
    "data2.to_sql('demographic', conn, if_exists = 'append', index = False)\n",
    "\n",
    "data3 = pd.read_csv(\"data/covid_policy.csv\")\n",
    "data3.to_sql('policy', conn, if_exists = 'append', index = False)\n",
    "\n",
    "data4 = pd.read_csv(\"data/covid_searchtrend.csv\")\n",
    "data4.to_sql('searchtrend', conn, if_exists = 'append', index = False)"
   ]
  },
  {
   "cell_type": "code",
   "execution_count": 8,
   "metadata": {},
   "outputs": [],
   "source": [
    "%load_ext sql"
   ]
  },
  {
   "cell_type": "code",
   "execution_count": 12,
   "metadata": {},
   "outputs": [],
   "source": [
    "%sql sqlite:///covid_project.db"
   ]
  },
  {
   "cell_type": "code",
   "execution_count": 13,
   "metadata": {
    "scrolled": false
   },
   "outputs": [
    {
     "name": "stdout",
     "output_type": "stream",
     "text": [
      " * sqlite:///covid_project.db\n",
      "Done.\n"
     ]
    },
    {
     "data": {
      "text/html": [
       "<table>\n",
       "    <tr>\n",
       "        <th>type</th>\n",
       "        <th>name</th>\n",
       "        <th>tbl_name</th>\n",
       "        <th>rootpage</th>\n",
       "        <th>sql</th>\n",
       "    </tr>\n",
       "    <tr>\n",
       "        <td>table</td>\n",
       "        <td>case</td>\n",
       "        <td>case</td>\n",
       "        <td>2</td>\n",
       "        <td>CREATE TABLE &quot;case&quot; (<br>&quot;date&quot; TEXT,<br>  &quot;country_code&quot; TEXT,<br>  &quot;subregion1_code&quot; TEXT,<br>  &quot;new_confirmed&quot; REAL,<br>  &quot;new_deceased&quot; REAL,<br>  &quot;new_tested&quot; REAL,<br>  &quot;cumulative_confirmed&quot; REAL,<br>  &quot;cumulative_tested&quot; REAL,<br>  &quot;cumulative_recovered&quot; REAL,<br>  &quot;cumulative_hospitalized_patients&quot; REAL<br>)</td>\n",
       "    </tr>\n",
       "    <tr>\n",
       "        <td>table</td>\n",
       "        <td>demographic</td>\n",
       "        <td>demographic</td>\n",
       "        <td>16840</td>\n",
       "        <td>CREATE TABLE &quot;demographic&quot; (<br>&quot;date&quot; TEXT,<br>  &quot;country_code&quot; TEXT,<br>  &quot;subregion1_code&quot; TEXT,<br>  &quot;area_sq_km&quot; INTEGER,<br>  &quot;area_urban_sq_km&quot; REAL,<br>  &quot;average_temperature_celsius&quot; REAL,<br>  &quot;population&quot; INTEGER,<br>  &quot;population_age_60_69&quot; REAL,<br>  &quot;population_age_70_79&quot; REAL,<br>  &quot;population_age_80_and_older&quot; REAL,<br>  &quot;life_expectancy&quot; REAL,<br>  &quot;nurses_per_1000&quot; REAL,<br>  &quot;physicians_per_1000&quot; REAL,<br>  &quot;health_expenditure_usd&quot; REAL,<br>  &quot;population_clustered&quot; REAL,<br>  &quot;human_capital_index&quot; REAL,<br>  &quot;comorbidity_mortality_rate&quot; REAL,<br>  &quot;mobility_retail_and_recreation&quot; REAL,<br>  &quot;mobility_grocery_and_pharmacy&quot; REAL,<br>  &quot;mobility_parks&quot; REAL,<br>  &quot;mobility_transit_stations&quot; REAL,<br>  &quot;mobility_workplaces&quot; REAL,<br>  &quot;mobility_residential&quot; REAL<br>)</td>\n",
       "    </tr>\n",
       "    <tr>\n",
       "        <td>table</td>\n",
       "        <td>policy</td>\n",
       "        <td>policy</td>\n",
       "        <td>53201</td>\n",
       "        <td>CREATE TABLE &quot;policy&quot; (<br>&quot;date&quot; TEXT,<br>  &quot;country_code&quot; TEXT,<br>  &quot;subregion1_code&quot; TEXT,<br>  &quot;school_closing&quot; REAL,<br>  &quot;workplace_closing&quot; REAL,<br>  &quot;restrictions_on_gatherings&quot; REAL,<br>  &quot;public_transport_closing&quot; REAL,<br>  &quot;stay_at_home_requirements&quot; REAL,<br>  &quot;public_information_campaigns&quot; REAL,<br>  &quot;testing_policy&quot; REAL,<br>  &quot;emergency_investment_in_healthcare&quot; REAL,<br>  &quot;investment_in_vaccines&quot; REAL,<br>  &quot;facial_coverings&quot; REAL,<br>  &quot;vaccination_policy&quot; REAL,<br>  &quot;stringency_index&quot; REAL<br>)</td>\n",
       "    </tr>\n",
       "    <tr>\n",
       "        <td>table</td>\n",
       "        <td>searchtrend</td>\n",
       "        <td>searchtrend</td>\n",
       "        <td>71369</td>\n",
       "        <td>CREATE TABLE &quot;searchtrend&quot; (<br>&quot;date&quot; TEXT,<br>  &quot;country_code&quot; TEXT,<br>  &quot;subregion1_code&quot; TEXT,<br>  &quot;search_trends_acute_bronchitis&quot; REAL,<br>  &quot;search_trends_ageusia&quot; REAL,<br>  &quot;search_trends_anosmia&quot; REAL,<br>  &quot;search_trends_anxiety&quot; REAL,<br>  &quot;search_trends_aphasia&quot; REAL,<br>  &quot;search_trends_aphonia&quot; REAL,<br>  &quot;search_trends_apnea&quot; REAL,<br>  &quot;search_trends_asphyxia&quot; REAL,<br>  &quot;search_trends_asthma&quot; REAL,<br>  &quot;search_trends_chest_pain&quot; REAL,<br>  &quot;search_trends_chills&quot; REAL,<br>  &quot;search_trends_clouding_of_consciousness&quot; REAL,<br>  &quot;search_trends_cough&quot; REAL,<br>  &quot;search_trends_fatigue&quot; REAL,<br>  &quot;search_trends_diarrhea&quot; REAL,<br>  &quot;search_trends_headache&quot; REAL,<br>  &quot;search_trends_heart_arrhythmia&quot; REAL,<br>  &quot;search_trends_fever&quot; REAL,<br>  &quot;search_trends_common_cold&quot; REAL,<br>  &quot;search_trends_pain&quot; REAL,<br>  &quot;search_trends_nausea&quot; REAL,<br>  &quot;search_trends_sore_throat&quot; REAL,<br>  &quot;search_trends_swelling&quot; REAL,<br>  &quot;search_trends_vomiting&quot; REAL<br>)</td>\n",
       "    </tr>\n",
       "</table>"
      ],
      "text/plain": [
       "[('table', 'case', 'case', 2, 'CREATE TABLE \"case\" (\\n\"date\" TEXT,\\n  \"country_code\" TEXT,\\n  \"subregion1_code\" TEXT,\\n  \"new_confirmed\" REAL,\\n  \"new_deceased\" REAL,\\n  \"new_tested\" REAL,\\n  \"cumulative_confirmed\" REAL,\\n  \"cumulative_tested\" REAL,\\n  \"cumulative_recovered\" REAL,\\n  \"cumulative_hospitalized_patients\" REAL\\n)'),\n",
       " ('table', 'demographic', 'demographic', 16840, 'CREATE TABLE \"demographic\" (\\n\"date\" TEXT,\\n  \"country_code\" TEXT,\\n  \"subregion1_code\" TEXT,\\n  \"area_sq_km\" INTEGER,\\n  \"area_urban_sq_km\" REAL,\\n  ... (446 characters truncated) ... y_and_pharmacy\" REAL,\\n  \"mobility_parks\" REAL,\\n  \"mobility_transit_stations\" REAL,\\n  \"mobility_workplaces\" REAL,\\n  \"mobility_residential\" REAL\\n)'),\n",
       " ('table', 'policy', 'policy', 53201, 'CREATE TABLE \"policy\" (\\n\"date\" TEXT,\\n  \"country_code\" TEXT,\\n  \"subregion1_code\" TEXT,\\n  \"school_closing\" REAL,\\n  \"workplace_closing\" REAL,\\n  \"r ... (190 characters truncated) ... stment_in_healthcare\" REAL,\\n  \"investment_in_vaccines\" REAL,\\n  \"facial_coverings\" REAL,\\n  \"vaccination_policy\" REAL,\\n  \"stringency_index\" REAL\\n)'),\n",
       " ('table', 'searchtrend', 'searchtrend', 71369, 'CREATE TABLE \"searchtrend\" (\\n\"date\" TEXT,\\n  \"country_code\" TEXT,\\n  \"subregion1_code\" TEXT,\\n  \"search_trends_acute_bronchitis\" REAL,\\n  \"search_tr ... (629 characters truncated) ... ain\" REAL,\\n  \"search_trends_nausea\" REAL,\\n  \"search_trends_sore_throat\" REAL,\\n  \"search_trends_swelling\" REAL,\\n  \"search_trends_vomiting\" REAL\\n)')]"
      ]
     },
     "execution_count": 13,
     "metadata": {},
     "output_type": "execute_result"
    }
   ],
   "source": [
    "%%sql\n",
    "\n",
    "SELECT * FROM sqlite_master WHERE type = 'table';"
   ]
  },
  {
   "cell_type": "markdown",
   "metadata": {},
   "source": [
    "## process policy data"
   ]
  },
  {
   "cell_type": "code",
   "execution_count": null,
   "metadata": {},
   "outputs": [],
   "source": [
    "%%sql policy <<\n",
    "\n",
    "SELECT date, country_code, subregion1_code, \n",
    "AVG(school_closing) AS school_closing, \n",
    "AVG(workplace_closing) AS workplace_closing, AVG(restrictions_on_gatherings) AS restrictions_on_gatherings, AVG(public_transport_closing) AS public_transport_closing, AVG(stay_at_home_requirements) AS stay_at_home_requirements, AVG(public_information_campaigns) AS public_information_campaigns, AVG(testing_policy) AS testing_policy, AVG(emergency_investment_in_healthcare) AS emergency_investment_in_healthcare, AVG(investment_in_vaccines) AS investment_in_vaccines, AVG(facial_coverings) AS facial_coverings, AVG(vaccination_policy) AS vaccination_policy, AVG(stringency_index) AS stringency_index\n",
    "FROM policy\n",
    "WHERE subregion1_code IS NOT NULL\n",
    "GROUP BY date, country_code, subregion1_code;"
   ]
  },
  {
   "cell_type": "markdown",
   "metadata": {},
   "source": [
    "## process search trend data"
   ]
  },
  {
   "cell_type": "code",
   "execution_count": null,
   "metadata": {},
   "outputs": [],
   "source": [
    "%%sql searchtrend <<\n",
    "\n",
    "SELECT date, country_code, subregion1_code,\n",
    "AVG(search_trends_apnea) AS search_trends_apnea, \n",
    "AVG(search_trends_asthma) AS search_trends_asthma, \n",
    "AVG(search_trends_chest_pain) AS search_trends_chest_pain, \n",
    "AVG(search_trends_cough) AS search_trends_cough, \n",
    "AVG(search_trends_fatigue) AS search_trends_fatigue, \n",
    "AVG(search_trends_diarrhea) AS search_trends_diarrhea, \n",
    "AVG(search_trends_headache) AS search_trends_headache, \n",
    "AVG(search_trends_heart_arrhythmia) AS search_trends_heart_arrhythmia, \n",
    "AVG(search_trends_fever) AS search_trends_fever, \n",
    "AVG(search_trends_common_cold) AS search_trends_common_cold, \n",
    "AVG(search_trends_pain) AS search_trends_pain, \n",
    "AVG(search_trends_nausea) AS search_trends_nausea, \n",
    "AVG(search_trends_sore_throat) AS search_trends_sore_throat, \n",
    "AVG(search_trends_swelling) AS search_trends_swelling, \n",
    "AVG(search_trends_vomiting) AS search_trends_vomiting\n",
    "\n",
    "FROM searchtrend\n",
    "WHERE subregion1_code IS NOT NULL\n",
    "GROUP BY date, subregion1_code"
   ]
  },
  {
   "cell_type": "markdown",
   "metadata": {},
   "source": [
    "## process geographical data"
   ]
  },
  {
   "cell_type": "code",
   "execution_count": null,
   "metadata": {},
   "outputs": [],
   "source": [
    "%% sql geo <<\n",
    "SELECT date, country_code, subregion1_code,\n",
    "SUM(area_sq_km) AS area_sq_km, \n",
    "AVG(average_temperature_celsius) AS average_temperature_celsius, \n",
    "SUM(population) AS population, \n",
    "SUM(population_age_60_69) AS population_age_60_69, \n",
    "SUM(population_age_70_79) AS population_age_70_79, \n",
    "SUM(population_age_80_and_older) AS population_age_80_and_older, \n",
    "AVG(life_expectancy) AS life_expectancy, \n",
    "AVG(health_expenditure_usd) AS health_expenditure_usd, \n",
    "AVG(population_clustered) AS population_clustered, \n",
    "AVG(human_capital_index) AS human_capital_index, \n",
    "AVG(comorbidity_mortality_rate) AS comorbidity_mortality_rate, \n",
    "AVG(mobility_retail_and_recreation) AS mobility_retail_and_recreation, \n",
    "AVG(mobility_grocery_and_pharmacy) AS mobility_grocery_and_pharmacy, \n",
    "AVG(mobility_parks) AS mobility_parks, \n",
    "AVG(mobility_transit_stations) AS mobility_transit_stations, \n",
    "AVG(mobility_workplaces) AS mobility_workplaces, \n",
    "AVG(mobility_residential) AS mobility_residential\n",
    "FROM demographic\n",
    "GROUP BY date, country_code, subregion1_code"
   ]
  },
  {
   "cell_type": "code",
   "execution_count": null,
   "metadata": {},
   "outputs": [],
   "source": []
  },
  {
   "cell_type": "code",
   "execution_count": null,
   "metadata": {},
   "outputs": [],
   "source": []
  },
  {
   "cell_type": "code",
   "execution_count": 84,
   "metadata": {},
   "outputs": [],
   "source": []
  },
  {
   "cell_type": "code",
   "execution_count": 85,
   "metadata": {},
   "outputs": [
    {
     "data": {
      "text/html": [
       "<div>\n",
       "<style scoped>\n",
       "    .dataframe tbody tr th:only-of-type {\n",
       "        vertical-align: middle;\n",
       "    }\n",
       "\n",
       "    .dataframe tbody tr th {\n",
       "        vertical-align: top;\n",
       "    }\n",
       "\n",
       "    .dataframe thead th {\n",
       "        text-align: right;\n",
       "    }\n",
       "</style>\n",
       "<table border=\"1\" class=\"dataframe\">\n",
       "  <thead>\n",
       "    <tr style=\"text-align: right;\">\n",
       "      <th></th>\n",
       "      <th>date</th>\n",
       "      <th>state</th>\n",
       "      <th>actuals.vaccinationsCompleted</th>\n",
       "      <th>cumulative_tested</th>\n",
       "    </tr>\n",
       "  </thead>\n",
       "  <tbody>\n",
       "    <tr>\n",
       "      <th>0</th>\n",
       "      <td>2020-03-01</td>\n",
       "      <td>AK</td>\n",
       "      <td>NaN</td>\n",
       "      <td>NaN</td>\n",
       "    </tr>\n",
       "    <tr>\n",
       "      <th>1</th>\n",
       "      <td>2020-03-02</td>\n",
       "      <td>AK</td>\n",
       "      <td>NaN</td>\n",
       "      <td>NaN</td>\n",
       "    </tr>\n",
       "    <tr>\n",
       "      <th>2</th>\n",
       "      <td>2020-03-03</td>\n",
       "      <td>AK</td>\n",
       "      <td>NaN</td>\n",
       "      <td>NaN</td>\n",
       "    </tr>\n",
       "    <tr>\n",
       "      <th>3</th>\n",
       "      <td>2020-03-04</td>\n",
       "      <td>AK</td>\n",
       "      <td>NaN</td>\n",
       "      <td>NaN</td>\n",
       "    </tr>\n",
       "    <tr>\n",
       "      <th>4</th>\n",
       "      <td>2020-03-05</td>\n",
       "      <td>AK</td>\n",
       "      <td>NaN</td>\n",
       "      <td>NaN</td>\n",
       "    </tr>\n",
       "    <tr>\n",
       "      <th>...</th>\n",
       "      <td>...</td>\n",
       "      <td>...</td>\n",
       "      <td>...</td>\n",
       "      <td>...</td>\n",
       "    </tr>\n",
       "    <tr>\n",
       "      <th>33667</th>\n",
       "      <td>2021-11-19</td>\n",
       "      <td>WY</td>\n",
       "      <td>261342.0</td>\n",
       "      <td>1144652.0</td>\n",
       "    </tr>\n",
       "    <tr>\n",
       "      <th>33668</th>\n",
       "      <td>2021-11-20</td>\n",
       "      <td>WY</td>\n",
       "      <td>261698.0</td>\n",
       "      <td>NaN</td>\n",
       "    </tr>\n",
       "    <tr>\n",
       "      <th>33669</th>\n",
       "      <td>2021-11-21</td>\n",
       "      <td>WY</td>\n",
       "      <td>261735.0</td>\n",
       "      <td>NaN</td>\n",
       "    </tr>\n",
       "    <tr>\n",
       "      <th>33670</th>\n",
       "      <td>2021-11-22</td>\n",
       "      <td>WY</td>\n",
       "      <td>261758.0</td>\n",
       "      <td>NaN</td>\n",
       "    </tr>\n",
       "    <tr>\n",
       "      <th>33671</th>\n",
       "      <td>2021-11-23</td>\n",
       "      <td>WY</td>\n",
       "      <td>NaN</td>\n",
       "      <td>NaN</td>\n",
       "    </tr>\n",
       "  </tbody>\n",
       "</table>\n",
       "<p>33672 rows × 4 columns</p>\n",
       "</div>"
      ],
      "text/plain": [
       "             date state  actuals.vaccinationsCompleted  cumulative_tested\n",
       "0      2020-03-01    AK                            NaN                NaN\n",
       "1      2020-03-02    AK                            NaN                NaN\n",
       "2      2020-03-03    AK                            NaN                NaN\n",
       "3      2020-03-04    AK                            NaN                NaN\n",
       "4      2020-03-05    AK                            NaN                NaN\n",
       "...           ...   ...                            ...                ...\n",
       "33667  2021-11-19    WY                       261342.0          1144652.0\n",
       "33668  2021-11-20    WY                       261698.0                NaN\n",
       "33669  2021-11-21    WY                       261735.0                NaN\n",
       "33670  2021-11-22    WY                       261758.0                NaN\n",
       "33671  2021-11-23    WY                            NaN                NaN\n",
       "\n",
       "[33672 rows x 4 columns]"
      ]
     },
     "execution_count": 85,
     "metadata": {},
     "output_type": "execute_result"
    }
   ],
   "source": [
    "data5"
   ]
  },
  {
   "cell_type": "code",
   "execution_count": 86,
   "metadata": {},
   "outputs": [],
   "source": []
  }
 ],
 "metadata": {
  "kernelspec": {
   "display_name": "Python 3",
   "language": "python",
   "name": "python3"
  },
  "language_info": {
   "codemirror_mode": {
    "name": "ipython",
    "version": 3
   },
   "file_extension": ".py",
   "mimetype": "text/x-python",
   "name": "python",
   "nbconvert_exporter": "python",
   "pygments_lexer": "ipython3",
   "version": "3.9.1"
  }
 },
 "nbformat": 4,
 "nbformat_minor": 4
}
